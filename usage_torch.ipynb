{
 "cells": [
  {
   "cell_type": "code",
   "execution_count": 1,
   "metadata": {
    "colab": {
     "base_uri": "https://localhost:8080/",
     "height": 104,
     "referenced_widgets": [
      "4fa8360c6f57438cab5f7ca7010e8547",
      "8a06645d980643818649b11ba99926ae",
      "51d887c47e304f26936dc8a8bd616866",
      "2f2e0bad1cbe4c70b91f42c8ef42861b",
      "84cc5771c1cd4914b5564641b4a647d9",
      "2e06ecc81b444de289547511be7742cf",
      "bddc1fcfed4a4bdda3550b1aa22b77a2",
      "47899462a12c4458a0c53acfb86da843",
      "4498ca5581e64a82a691767890bd76d5",
      "b1732efd5ad542febd0de491cd2137b4",
      "89fbfb29321a4432a0643beff7fe5d52"
     ]
    },
    "executionInfo": {
     "elapsed": 7424,
     "status": "ok",
     "timestamp": 1650624223721,
     "user": {
      "displayName": "김형진",
      "userId": "05530574334109307920"
     },
     "user_tz": -540
    },
    "id": "TAtrzndb7Vun",
    "outputId": "8715becc-9771-4dbf-888b-21090acca215"
   },
   "outputs": [
    {
     "name": "stdout",
     "output_type": "stream",
     "text": [
      "Downloading https://www.cs.toronto.edu/~kriz/cifar-10-python.tar.gz to ./datasets/cifar10/cifar-10-python.tar.gz\n"
     ]
    },
    {
     "data": {
      "application/vnd.jupyter.widget-view+json": {
       "model_id": "4fa8360c6f57438cab5f7ca7010e8547",
       "version_major": 2,
       "version_minor": 0
      },
      "text/plain": [
       "  0%|          | 0/170498071 [00:00<?, ?it/s]"
      ]
     },
     "metadata": {},
     "output_type": "display_data"
    },
    {
     "name": "stdout",
     "output_type": "stream",
     "text": [
      "Extracting ./datasets/cifar10/cifar-10-python.tar.gz to ./datasets/cifar10\n",
      "Files already downloaded and verified\n"
     ]
    }
   ],
   "source": [
    "import torch\n",
    "import torchvision\n",
    "\n",
    "transform = torchvision.transforms.Compose([torchvision.transforms.ToTensor(),\n",
    "                                            torchvision.transforms.Normalize((0.4914, 0.4822, 0.4465), (0.2023, 0.1994, 0.2010))])\n",
    "\n",
    "tr_set = torchvision.datasets.CIFAR10(root = \"./datasets/cifar10\", train = True, download = True, transform = transform)\n",
    "te_set = torchvision.datasets.CIFAR10(root = \"./datasets/cifar10\", train = False, download = True, transform = transform)\n",
    "\n",
    "tr_data = torch.utils.data.DataLoader(tr_set, batch_size = 128, shuffle = True)\n",
    "te_data = torch.utils.data.DataLoader(te_set, batch_size = 128, shuffle = False)"
   ]
  },
  {
   "cell_type": "code",
   "execution_count": 2,
   "metadata": {
    "colab": {
     "base_uri": "https://localhost:8080/"
    },
    "executionInfo": {
     "elapsed": 1350708,
     "status": "ok",
     "timestamp": 1650628356327,
     "user": {
      "displayName": "김형진",
      "userId": "05530574334109307920"
     },
     "user_tz": -540
    },
    "id": "8voh8tnX-sDU",
    "outputId": "cea0e4ce-cb05-4587-aca5-3a07346621ea"
   },
   "outputs": [
    {
     "name": "stdout",
     "output_type": "stream",
     "text": [
      "1 - model learn\n",
      "score : 0.8291\n",
      "2 - model learn\n",
      "score : 0.8337\n",
      "3 - model learn\n",
      "score : 0.8308\n",
      "4 - model learn\n",
      "score : 0.8355\n",
      "5 - model learn\n",
      "score : 0.8317\n",
      "finish\n"
     ]
    }
   ],
   "source": [
    "device = \"cuda:0\"\n",
    "result = {}\n",
    "for index in range(5):\n",
    "    print(\"{0} - model learn\".format(index + 1))\n",
    "    \n",
    "    model = torchvision.models.resnet50(pretrained = True).to(device)\n",
    "    model.train()\n",
    "    criterion = torch.nn.CrossEntropyLoss()\n",
    "    optimizer = torch.optim.Adam(model.parameters(), lr = 1e-4)\n",
    "    for epoch in range(10):\n",
    "        for x, y in tr_data:\n",
    "            x, y = x.to(device), y.to(device)\n",
    "            optimizer.zero_grad()\n",
    "            logits = model(x)\n",
    "            loss = criterion(logits, y)\n",
    "            loss.backward()\n",
    "            optimizer.step()\n",
    "\n",
    "    score = 0\n",
    "    model.eval()\n",
    "    with torch.no_grad():\n",
    "        for x, y in te_data:\n",
    "            x, y = x.to(device), y.to(device)\n",
    "            logits = model(x)\n",
    "            pred = logits.argmax(dim = 1)\n",
    "            score += (pred == y).sum().to(\"cpu\").item()\n",
    "    score = score / len(te_data.dataset)\n",
    "\n",
    "    print(\"score : {0:.4f}\".format(score))\n",
    "    path = \"model{0}.pth\".format(index + 1)\n",
    "    result[path] = score\n",
    "    torch.save(model.state_dict(), path)\n",
    "print(\"finish\")"
   ]
  },
  {
   "cell_type": "code",
   "execution_count": 3,
   "metadata": {
    "colab": {
     "base_uri": "https://localhost:8080/"
    },
    "executionInfo": {
     "elapsed": 24904,
     "status": "ok",
     "timestamp": 1650628612614,
     "user": {
      "displayName": "김형진",
      "userId": "05530574334109307920"
     },
     "user_tz": -540
    },
    "id": "MsTu5aaRHY9d",
    "outputId": "287411fa-2dda-416d-9bd1-28ae96de717e"
   },
   "outputs": [
    {
     "name": "stdout",
     "output_type": "stream",
     "text": [
      "[Original Performance]\n",
      "[model1.pth] score:0.8291\n",
      "[model2.pth] score:0.8337\n",
      "[model3.pth] score:0.8308\n",
      "[model4.pth] score:0.8355\n",
      "[model5.pth] score:0.8317\n",
      "\n",
      "[Greedy Soup Performance]\n",
      "[model1.pth] step: 79 - time: 3.49s - metric: 0.8291\n",
      "[model2.pth] step: 79 - time: 3.43s - metric: 0.8517\n",
      "[model3.pth] step: 79 - time: 3.46s - metric: 0.8534\n",
      "[model4.pth] step: 79 - time: 3.43s - metric: 0.8546\n",
      "[model5.pth] step: 79 - time: 3.46s - metric: 0.8533\n",
      "model soup best score : 0.8546\n",
      "score : 0.8546\n",
      "\n",
      "[Uniform Soup Performance]\n",
      "score : 0.8567\n"
     ]
    }
   ],
   "source": [
    "import os\n",
    "import numpy as np\n",
    "import model_soup\n",
    "\n",
    "print(\"[Original Performance]\")\n",
    "for k, v in result.items():\n",
    "    print(\"[{0}] score:{1:.4f}\".format(os.path.basename(k), v))\n",
    "\n",
    "def metric(y_true, y_pred):\n",
    "    return ((y_true == y_pred.argmax(axis = -1)).sum() / len(y_true)).to(\"cpu\").item()\n",
    "\n",
    "print(\"\\n[Greedy Soup Performance]\")\n",
    "greedy_model = model_soup.torch.greedy_soup(model, list(result.keys()), te_data, metric = metric, compare = np.greater_equal, device = device)\n",
    "score = 0\n",
    "greedy_model.eval()\n",
    "with torch.no_grad():\n",
    "    for x, y in te_data:\n",
    "        x, y = x.to(device), y.to(device)\n",
    "        logits = greedy_model(x)\n",
    "        pred = logits.argmax(dim = 1)\n",
    "        score += (pred == y).sum().to(\"cpu\").item()\n",
    "score = score / len(te_data.dataset)\n",
    "print(\"score : {0:.4f}\".format(score))\n",
    "\n",
    "\n",
    "print(\"\\n[Uniform Soup Performance]\")\n",
    "uniform_model = model_soup.torch.uniform_soup(model, list(result.keys()), device = device)\n",
    "score = 0\n",
    "uniform_model.eval()\n",
    "with torch.no_grad():\n",
    "    for x, y in te_data:\n",
    "        x, y = x.to(device), y.to(device)\n",
    "        logits = uniform_model(x)\n",
    "        pred = logits.argmax(dim = 1)\n",
    "        score += (pred == y).sum().to(\"cpu\").item()\n",
    "score = score / len(te_data.dataset)\n",
    "print(\"score : {0:.4f}\".format(score))"
   ]
  },
  {
   "cell_type": "code",
   "execution_count": null,
   "metadata": {
    "id": "tPwkM6FvCMDi"
   },
   "outputs": [],
   "source": []
  }
 ],
 "metadata": {
  "accelerator": "GPU",
  "colab": {
   "collapsed_sections": [],
   "name": "usage_torch.ipynb",
   "provenance": []
  },
  "kernelspec": {
   "display_name": "Python 3",
   "language": "python",
   "name": "python3"
  },
  "language_info": {
   "codemirror_mode": {
    "name": "ipython",
    "version": 3
   },
   "file_extension": ".py",
   "mimetype": "text/x-python",
   "name": "python",
   "nbconvert_exporter": "python",
   "pygments_lexer": "ipython3",
   "version": "3.8.5"
  },
  "widgets": {
   "application/vnd.jupyter.widget-state+json": {
    "2e06ecc81b444de289547511be7742cf": {
     "model_module": "@jupyter-widgets/base",
     "model_module_version": "1.2.0",
     "model_name": "LayoutModel",
     "state": {
      "_model_module": "@jupyter-widgets/base",
      "_model_module_version": "1.2.0",
      "_model_name": "LayoutModel",
      "_view_count": null,
      "_view_module": "@jupyter-widgets/base",
      "_view_module_version": "1.2.0",
      "_view_name": "LayoutView",
      "align_content": null,
      "align_items": null,
      "align_self": null,
      "border": null,
      "bottom": null,
      "display": null,
      "flex": null,
      "flex_flow": null,
      "grid_area": null,
      "grid_auto_columns": null,
      "grid_auto_flow": null,
      "grid_auto_rows": null,
      "grid_column": null,
      "grid_gap": null,
      "grid_row": null,
      "grid_template_areas": null,
      "grid_template_columns": null,
      "grid_template_rows": null,
      "height": null,
      "justify_content": null,
      "justify_items": null,
      "left": null,
      "margin": null,
      "max_height": null,
      "max_width": null,
      "min_height": null,
      "min_width": null,
      "object_fit": null,
      "object_position": null,
      "order": null,
      "overflow": null,
      "overflow_x": null,
      "overflow_y": null,
      "padding": null,
      "right": null,
      "top": null,
      "visibility": null,
      "width": null
     }
    },
    "2f2e0bad1cbe4c70b91f42c8ef42861b": {
     "model_module": "@jupyter-widgets/controls",
     "model_module_version": "1.5.0",
     "model_name": "HTMLModel",
     "state": {
      "_dom_classes": [],
      "_model_module": "@jupyter-widgets/controls",
      "_model_module_version": "1.5.0",
      "_model_name": "HTMLModel",
      "_view_count": null,
      "_view_module": "@jupyter-widgets/controls",
      "_view_module_version": "1.5.0",
      "_view_name": "HTMLView",
      "description": "",
      "description_tooltip": null,
      "layout": "IPY_MODEL_b1732efd5ad542febd0de491cd2137b4",
      "placeholder": "​",
      "style": "IPY_MODEL_89fbfb29321a4432a0643beff7fe5d52",
      "value": " 170499072/? [00:03&lt;00:00, 53552397.34it/s]"
     }
    },
    "4498ca5581e64a82a691767890bd76d5": {
     "model_module": "@jupyter-widgets/controls",
     "model_module_version": "1.5.0",
     "model_name": "ProgressStyleModel",
     "state": {
      "_model_module": "@jupyter-widgets/controls",
      "_model_module_version": "1.5.0",
      "_model_name": "ProgressStyleModel",
      "_view_count": null,
      "_view_module": "@jupyter-widgets/base",
      "_view_module_version": "1.2.0",
      "_view_name": "StyleView",
      "bar_color": null,
      "description_width": ""
     }
    },
    "47899462a12c4458a0c53acfb86da843": {
     "model_module": "@jupyter-widgets/base",
     "model_module_version": "1.2.0",
     "model_name": "LayoutModel",
     "state": {
      "_model_module": "@jupyter-widgets/base",
      "_model_module_version": "1.2.0",
      "_model_name": "LayoutModel",
      "_view_count": null,
      "_view_module": "@jupyter-widgets/base",
      "_view_module_version": "1.2.0",
      "_view_name": "LayoutView",
      "align_content": null,
      "align_items": null,
      "align_self": null,
      "border": null,
      "bottom": null,
      "display": null,
      "flex": null,
      "flex_flow": null,
      "grid_area": null,
      "grid_auto_columns": null,
      "grid_auto_flow": null,
      "grid_auto_rows": null,
      "grid_column": null,
      "grid_gap": null,
      "grid_row": null,
      "grid_template_areas": null,
      "grid_template_columns": null,
      "grid_template_rows": null,
      "height": null,
      "justify_content": null,
      "justify_items": null,
      "left": null,
      "margin": null,
      "max_height": null,
      "max_width": null,
      "min_height": null,
      "min_width": null,
      "object_fit": null,
      "object_position": null,
      "order": null,
      "overflow": null,
      "overflow_x": null,
      "overflow_y": null,
      "padding": null,
      "right": null,
      "top": null,
      "visibility": null,
      "width": null
     }
    },
    "4fa8360c6f57438cab5f7ca7010e8547": {
     "model_module": "@jupyter-widgets/controls",
     "model_module_version": "1.5.0",
     "model_name": "HBoxModel",
     "state": {
      "_dom_classes": [],
      "_model_module": "@jupyter-widgets/controls",
      "_model_module_version": "1.5.0",
      "_model_name": "HBoxModel",
      "_view_count": null,
      "_view_module": "@jupyter-widgets/controls",
      "_view_module_version": "1.5.0",
      "_view_name": "HBoxView",
      "box_style": "",
      "children": [
       "IPY_MODEL_8a06645d980643818649b11ba99926ae",
       "IPY_MODEL_51d887c47e304f26936dc8a8bd616866",
       "IPY_MODEL_2f2e0bad1cbe4c70b91f42c8ef42861b"
      ],
      "layout": "IPY_MODEL_84cc5771c1cd4914b5564641b4a647d9"
     }
    },
    "51d887c47e304f26936dc8a8bd616866": {
     "model_module": "@jupyter-widgets/controls",
     "model_module_version": "1.5.0",
     "model_name": "FloatProgressModel",
     "state": {
      "_dom_classes": [],
      "_model_module": "@jupyter-widgets/controls",
      "_model_module_version": "1.5.0",
      "_model_name": "FloatProgressModel",
      "_view_count": null,
      "_view_module": "@jupyter-widgets/controls",
      "_view_module_version": "1.5.0",
      "_view_name": "ProgressView",
      "bar_style": "success",
      "description": "",
      "description_tooltip": null,
      "layout": "IPY_MODEL_47899462a12c4458a0c53acfb86da843",
      "max": 170498071,
      "min": 0,
      "orientation": "horizontal",
      "style": "IPY_MODEL_4498ca5581e64a82a691767890bd76d5",
      "value": 170498071
     }
    },
    "84cc5771c1cd4914b5564641b4a647d9": {
     "model_module": "@jupyter-widgets/base",
     "model_module_version": "1.2.0",
     "model_name": "LayoutModel",
     "state": {
      "_model_module": "@jupyter-widgets/base",
      "_model_module_version": "1.2.0",
      "_model_name": "LayoutModel",
      "_view_count": null,
      "_view_module": "@jupyter-widgets/base",
      "_view_module_version": "1.2.0",
      "_view_name": "LayoutView",
      "align_content": null,
      "align_items": null,
      "align_self": null,
      "border": null,
      "bottom": null,
      "display": null,
      "flex": null,
      "flex_flow": null,
      "grid_area": null,
      "grid_auto_columns": null,
      "grid_auto_flow": null,
      "grid_auto_rows": null,
      "grid_column": null,
      "grid_gap": null,
      "grid_row": null,
      "grid_template_areas": null,
      "grid_template_columns": null,
      "grid_template_rows": null,
      "height": null,
      "justify_content": null,
      "justify_items": null,
      "left": null,
      "margin": null,
      "max_height": null,
      "max_width": null,
      "min_height": null,
      "min_width": null,
      "object_fit": null,
      "object_position": null,
      "order": null,
      "overflow": null,
      "overflow_x": null,
      "overflow_y": null,
      "padding": null,
      "right": null,
      "top": null,
      "visibility": null,
      "width": null
     }
    },
    "89fbfb29321a4432a0643beff7fe5d52": {
     "model_module": "@jupyter-widgets/controls",
     "model_module_version": "1.5.0",
     "model_name": "DescriptionStyleModel",
     "state": {
      "_model_module": "@jupyter-widgets/controls",
      "_model_module_version": "1.5.0",
      "_model_name": "DescriptionStyleModel",
      "_view_count": null,
      "_view_module": "@jupyter-widgets/base",
      "_view_module_version": "1.2.0",
      "_view_name": "StyleView",
      "description_width": ""
     }
    },
    "8a06645d980643818649b11ba99926ae": {
     "model_module": "@jupyter-widgets/controls",
     "model_module_version": "1.5.0",
     "model_name": "HTMLModel",
     "state": {
      "_dom_classes": [],
      "_model_module": "@jupyter-widgets/controls",
      "_model_module_version": "1.5.0",
      "_model_name": "HTMLModel",
      "_view_count": null,
      "_view_module": "@jupyter-widgets/controls",
      "_view_module_version": "1.5.0",
      "_view_name": "HTMLView",
      "description": "",
      "description_tooltip": null,
      "layout": "IPY_MODEL_2e06ecc81b444de289547511be7742cf",
      "placeholder": "​",
      "style": "IPY_MODEL_bddc1fcfed4a4bdda3550b1aa22b77a2",
      "value": ""
     }
    },
    "b1732efd5ad542febd0de491cd2137b4": {
     "model_module": "@jupyter-widgets/base",
     "model_module_version": "1.2.0",
     "model_name": "LayoutModel",
     "state": {
      "_model_module": "@jupyter-widgets/base",
      "_model_module_version": "1.2.0",
      "_model_name": "LayoutModel",
      "_view_count": null,
      "_view_module": "@jupyter-widgets/base",
      "_view_module_version": "1.2.0",
      "_view_name": "LayoutView",
      "align_content": null,
      "align_items": null,
      "align_self": null,
      "border": null,
      "bottom": null,
      "display": null,
      "flex": null,
      "flex_flow": null,
      "grid_area": null,
      "grid_auto_columns": null,
      "grid_auto_flow": null,
      "grid_auto_rows": null,
      "grid_column": null,
      "grid_gap": null,
      "grid_row": null,
      "grid_template_areas": null,
      "grid_template_columns": null,
      "grid_template_rows": null,
      "height": null,
      "justify_content": null,
      "justify_items": null,
      "left": null,
      "margin": null,
      "max_height": null,
      "max_width": null,
      "min_height": null,
      "min_width": null,
      "object_fit": null,
      "object_position": null,
      "order": null,
      "overflow": null,
      "overflow_x": null,
      "overflow_y": null,
      "padding": null,
      "right": null,
      "top": null,
      "visibility": null,
      "width": null
     }
    },
    "bddc1fcfed4a4bdda3550b1aa22b77a2": {
     "model_module": "@jupyter-widgets/controls",
     "model_module_version": "1.5.0",
     "model_name": "DescriptionStyleModel",
     "state": {
      "_model_module": "@jupyter-widgets/controls",
      "_model_module_version": "1.5.0",
      "_model_name": "DescriptionStyleModel",
      "_view_count": null,
      "_view_module": "@jupyter-widgets/base",
      "_view_module_version": "1.2.0",
      "_view_name": "StyleView",
      "description_width": ""
     }
    }
   }
  }
 },
 "nbformat": 4,
 "nbformat_minor": 4
}
