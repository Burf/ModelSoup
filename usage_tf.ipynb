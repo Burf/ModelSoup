{
 "cells": [
  {
   "cell_type": "code",
   "execution_count": 1,
   "metadata": {
    "colab": {
     "base_uri": "https://localhost:8080/"
    },
    "executionInfo": {
     "elapsed": 24099,
     "status": "ok",
     "timestamp": 1650599377141,
     "user": {
      "displayName": "김형진",
      "userId": "05530574334109307920"
     },
     "user_tz": -540
    },
    "id": "TAtrzndb7Vun",
    "outputId": "cc87ad29-4557-4277-9654-4739de3f5fb7"
   },
   "outputs": [
    {
     "name": "stdout",
     "output_type": "stream",
     "text": [
      "Downloading data from https://www.cs.toronto.edu/~kriz/cifar-10-python.tar.gz\n",
      "170500096/170498071 [==============================] - 13s 0us/step\n",
      "170508288/170498071 [==============================] - 13s 0us/step\n"
     ]
    }
   ],
   "source": [
    "import tensorflow as tf\n",
    "\n",
    "import ssl\n",
    "ssl._create_default_https_context = ssl._create_unverified_context\n",
    "\n",
    "def pipe(data, batch_size = 128, shuffle = False):\n",
    "    dataset = tf.data.Dataset.from_tensor_slices(data)\n",
    "    if shuffle:\n",
    "        dataset = dataset.shuffle(buffer_size = batch_size * 10)\n",
    "    dataset = dataset.batch(batch_size)\n",
    "    #dataset = dataset.prefetch((batch_size * 2) + 1)\n",
    "    dataset = dataset.prefetch(tf.data.experimental.AUTOTUNE)\n",
    "    return dataset\n",
    "\n",
    "(tr_x, tr_y), (te_x, te_y) = tf.keras.datasets.cifar10.load_data()\n",
    "\n",
    "tr_x = tr_x * 1/255\n",
    "te_x = te_x * 1/255\n",
    "\n",
    "batch_size = 128\n",
    "\n",
    "tr_data = pipe((tr_x, tr_y), batch_size = batch_size, shuffle = True)\n",
    "te_data = pipe((te_x, te_y), batch_size = batch_size, shuffle = False)"
   ]
  },
  {
   "cell_type": "code",
   "execution_count": 2,
   "metadata": {
    "colab": {
     "base_uri": "https://localhost:8080/"
    },
    "executionInfo": {
     "elapsed": 2,
     "status": "ok",
     "timestamp": 1650609313810,
     "user": {
      "displayName": "김형진",
      "userId": "05530574334109307920"
     },
     "user_tz": -540
    },
    "id": "8voh8tnX-sDU",
    "outputId": "b9d569f2-4cd1-4a0f-ea0f-e8d3336e3335"
   },
   "outputs": [
    {
     "name": "stdout",
     "output_type": "stream",
     "text": [
      "1 - model learn\n",
      "Downloading data from https://storage.googleapis.com/tensorflow/keras-applications/resnet/resnet50_weights_tf_dim_ordering_tf_kernels_notop.h5\n",
      "94773248/94765736 [==============================] - 1s 0us/step\n",
      "94781440/94765736 [==============================] - 1s 0us/step\n",
      "79/79 [==============================] - 3s 19ms/step - loss: 1.0081 - sparse_categorical_accuracy: 0.7860\n",
      "2 - model learn\n",
      "79/79 [==============================] - 3s 21ms/step - loss: 0.9853 - sparse_categorical_accuracy: 0.7909\n",
      "3 - model learn\n",
      "79/79 [==============================] - 3s 20ms/step - loss: 0.9366 - sparse_categorical_accuracy: 0.7930\n",
      "4 - model learn\n",
      "79/79 [==============================] - 3s 19ms/step - loss: 0.9480 - sparse_categorical_accuracy: 0.7942\n",
      "5 - model learn\n",
      "79/79 [==============================] - 3s 19ms/step - loss: 0.9691 - sparse_categorical_accuracy: 0.7995\n",
      "finish\n"
     ]
    }
   ],
   "source": [
    "def get_model(shape = (32, 32, 3), weights = \"imagenet\"):\n",
    "    model = tf.keras.applications.ResNet50(input_shape = shape, include_top = False, weights = weights)\n",
    "    flatten = tf.keras.layers.GlobalAveragePooling2D()(model.output)\n",
    "    drop_out = tf.keras.layers.Dropout(0.5)(flatten)\n",
    "    dense = tf.keras.layers.Dense(2048, activation = \"relu\")(drop_out)\n",
    "    prediction = tf.keras.layers.Dense(10, activation = \"softmax\", name = \"prediction\")(dense)\n",
    "    model = tf.keras.Model(model.input, prediction)\n",
    "    return model\n",
    "\n",
    "result = {}\n",
    "for index in range(5):\n",
    "    print(\"{0} - model learn\".format(index + 1))\n",
    "    model = get_model()\n",
    "    loss = tf.keras.losses.sparse_categorical_crossentropy\n",
    "    opt = tf.keras.optimizers.Adam(1e-4)\n",
    "    metric = [tf.keras.metrics.sparse_categorical_accuracy]\n",
    "    model.compile(loss = loss, optimizer = opt, metrics = metric)\n",
    "    model.fit(tr_data, epochs = 10, verbose = 0)\n",
    "\n",
    "    loss, score = model.evaluate(te_data, verbose = 1)\n",
    "    path = \"model{0}.h5\".format(index + 1)\n",
    "\n",
    "    result[path] = score\n",
    "    model.save_weights(path)\n",
    "print(\"finish\")"
   ]
  },
  {
   "cell_type": "code",
   "execution_count": 3,
   "metadata": {
    "colab": {
     "base_uri": "https://localhost:8080/"
    },
    "executionInfo": {
     "elapsed": 57182,
     "status": "ok",
     "timestamp": 1650609619467,
     "user": {
      "displayName": "김형진",
      "userId": "05530574334109307920"
     },
     "user_tz": -540
    },
    "id": "MsTu5aaRHY9d",
    "outputId": "a9c938ed-bd9d-4749-b197-5f2bb134da24"
   },
   "outputs": [
    {
     "name": "stdout",
     "output_type": "stream",
     "text": [
      "[Original Performance]\n",
      "[model1.h5] accuracy:0.786000\n",
      "[model2.h5] accuracy:0.790900\n",
      "[model3.h5] accuracy:0.793000\n",
      "[model4.h5] accuracy:0.794200\n",
      "[model5.h5] accuracy:0.799500\n",
      "\n",
      "[Greedy Soup Performance]\n",
      "[model1.h5] step: 79 - time: 7.62s - sparse_categorical_accuracy: 0.7860\n",
      "[model2.h5] step: 79 - time: 7.48s - sparse_categorical_accuracy: 0.8077\n",
      "[model3.h5] step: 79 - time: 7.74s - sparse_categorical_accuracy: 0.8124\n",
      "[model4.h5] step: 79 - time: 7.44s - sparse_categorical_accuracy: 0.8088\n",
      "[model5.h5] step: 79 - time: 7.89s - sparse_categorical_accuracy: 0.8153\n",
      "model soup best score : 0.8152999877929688\n",
      "79/79 [==============================] - 2s 20ms/step - loss: 0.8123 - sparse_categorical_accuracy: 0.8153\n",
      "\n",
      "[Uniform Soup Performance]\n",
      "79/79 [==============================] - 2s 21ms/step - loss: 1.3808 - sparse_categorical_accuracy: 0.8114\n"
     ]
    }
   ],
   "source": [
    "import os\n",
    "import numpy as np\n",
    "import model_soup\n",
    "\n",
    "print(\"[Original Performance]\")\n",
    "for k, v in result.items():\n",
    "    print(\"[{0}] accuracy:{1:.4f}\".format(os.path.basename(k), v))\n",
    "\n",
    "print(\"\\n[Greedy Soup Performance]\")\n",
    "greedy_model = model_soup.tf.greedy_soup(model, list(result.keys()), te_data, metric = tf.keras.metrics.sparse_categorical_accuracy, compare = np.greater_equal)\n",
    "loss, score = greedy_model.evaluate(te_data)\n",
    "\n",
    "print(\"\\n[Uniform Soup Performance]\")\n",
    "uniform_model = model_soup.tf.uniform_soup(model, list(result.keys()))\n",
    "loss, score = uniform_model.evaluate(te_data)"
   ]
  },
  {
   "cell_type": "code",
   "execution_count": null,
   "metadata": {
    "id": "wqyEvc3I2a_a"
   },
   "outputs": [],
   "source": []
  }
 ],
 "metadata": {
  "accelerator": "GPU",
  "colab": {
   "collapsed_sections": [],
   "name": "usage.ipynb",
   "provenance": []
  },
  "kernelspec": {
   "display_name": "Python 3",
   "language": "python",
   "name": "python3"
  },
  "language_info": {
   "codemirror_mode": {
    "name": "ipython",
    "version": 3
   },
   "file_extension": ".py",
   "mimetype": "text/x-python",
   "name": "python",
   "nbconvert_exporter": "python",
   "pygments_lexer": "ipython3",
   "version": "3.8.5"
  }
 },
 "nbformat": 4,
 "nbformat_minor": 4
}
